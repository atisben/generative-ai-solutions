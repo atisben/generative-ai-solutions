{
 "cells": [
  {
   "cell_type": "code",
   "execution_count": 2,
   "metadata": {},
   "outputs": [
    {
     "name": "stdout",
     "output_type": "stream",
     "text": [
      "<think>\n",
      "\n",
      "</think>\n",
      "\n",
      "Machine learning is a subset of artificial intelligence that involves training algorithms to learn patterns and make predictions or decisions from data without explicit programming. It enables systems to improve their performance over time by learning from new data, adjusting for errors or optimizing their outcomes.\n",
      "\n",
      "### Key Components:\n",
      "1. **Data**: Machine learning models require large datasets to learn from.\n",
      "2. **Algorithm**: The method used to analyze the data (e.g., regression, classification, clustering).\n",
      "3. **Model**: The output of the training process that makes predictions or decisions.\n",
      "4. **Feature**: An attribute in the data (e.g., pixel intensity in an image).\n",
      "5. **Label**: The known outcome or category for supervised learning.\n",
      "\n",
      "### Types of Machine Learning:\n",
      "1. **Supervised Learning**: Models are trained on labeled data, where each example has a known input and output.\n",
      "   - **Classification**: Predicting discrete labels (e.g., spam vs. not spam).\n",
      "   - **Regression**: Predicting continuous values (e.g., house prices).\n",
      "\n",
      "2. **Unsupervised Learning**: Models are trained on unlabeled data, discovering patterns or intrinsic structures.\n",
      "   - **Clustering**: Grouping similar items together (e.g., customer segmentation).\n",
      "   - **Dimensionality Reduction**: Reducing the number of features in the data.\n",
      "\n",
      "3. **Reinforcement Learning**: Models learn by interacting with an environment, receiving rewards or penalties for actions taken to maximize cumulative reward.\n",
      "\n",
      "4. **Deep Learning**: A subset of machine learning that uses neural networks with many layers (e.g., convolutional neural networks, recurrent neural networks).\n",
      "\n",
      "### Applications:\n",
      "- **Recommendation Systems**: Like Netflix and Spotify.\n",
      "- **Autonomous Vehicles**: Self-driving cars using sensor data.\n",
      "- **Speech Recognition**: Converting speech to text.\n",
      "- **Image Recognition**: Identifying objects in images or videos.\n",
      "- **NLP (Natural Language Processing)**: Understanding and generating human language.\n",
      "\n",
      "### Challenges:\n",
      "- **Data Quality**: Requires large, diverse, and relevant datasets.\n",
      "- **Overfitting/Underfitting**: Models may perform well on training data but not generalize to new data, or they may be too simple to capture patterns.\n",
      "- **Bias and Fairness**: Algorithms can inherit biases from the data, leading to unfair or discriminatory outcomes.\n",
      "\n",
      "### Tools and Technologies:\n",
      "- **Programming Languages**: Python (with libraries like TensorFlow, PyTorch, Scikit-learn), R.\n",
      "- ** Frameworks**: TensorFlow, PyTorch, Keras.\n",
      "- **Cloud Services**: AWS, Google Cloud, Azure for scalable machine learning.\n",
      "\n",
      "Machine learning is transforming industries by automating insights and decision-making processes, but it also raises ethical considerations regarding privacy, bias, and accountability."
     ]
    }
   ],
   "source": [
    "from ollama import chat\n",
    "\n",
    "MODEL = \"deepseek-r1:7b\"\n",
    "TEMPERATURE = 0\n",
    "\n",
    "stream = chat(\n",
    "    model=MODEL, \n",
    "    messages=[{\"role\": \"user\", \"content\": \"what is machine learning\"}],\n",
    "    options={\"temperature\":TEMPERATURE},\n",
    "    stream=True\n",
    ")\n",
    "\n",
    "for chunk in stream:\n",
    "    print(chunk[\"message\"][\"content\"], end=\"\", flush=True)\n",
    "\n"
   ]
  }
 ],
 "metadata": {
  "kernelspec": {
   "display_name": ".venv",
   "language": "python",
   "name": "python3"
  },
  "language_info": {
   "codemirror_mode": {
    "name": "ipython",
    "version": 3
   },
   "file_extension": ".py",
   "mimetype": "text/x-python",
   "name": "python",
   "nbconvert_exporter": "python",
   "pygments_lexer": "ipython3",
   "version": "3.12.8"
  }
 },
 "nbformat": 4,
 "nbformat_minor": 2
}

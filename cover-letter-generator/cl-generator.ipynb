{
 "cells": [
  {
   "cell_type": "code",
   "execution_count": 30,
   "metadata": {},
   "outputs": [
    {
     "name": "stdout",
     "output_type": "stream",
     "text": [
      "The autoreload extension is already loaded. To reload it, use:\n",
      "  %reload_ext autoreload\n"
     ]
    }
   ],
   "source": [
    "from dotenv import load_dotenv\n",
    "from langchain_core.prompts import ChatPromptTemplate, MessagesPlaceholder\n",
    "from langchain_openai import AzureChatOpenAI\n",
    "from langchain_core.messages import HumanMessage, SystemMessage\n",
    "from langchain_core.rate_limiters import InMemoryRateLimiter\n",
    "import os\n",
    "import base64\n",
    "from PIL import Image\n",
    "import base64\n",
    "import pypdfium2 as pdfium \n",
    "from io import BytesIO  \n",
    "\n",
    "load_dotenv(\"../.env\")\n",
    "%load_ext autoreload\n",
    "%autoreload 2"
   ]
  },
  {
   "cell_type": "code",
   "execution_count": 16,
   "metadata": {},
   "outputs": [],
   "source": [
    "LANGUAGE = \"EN\""
   ]
  },
  {
   "cell_type": "markdown",
   "metadata": {},
   "source": [
    "## Load templates and personal information\n"
   ]
  },
  {
   "cell_type": "code",
   "execution_count": 17,
   "metadata": {},
   "outputs": [],
   "source": [
    "# Open the text file in read mode  \n",
    "with open('data/cl_template.txt', 'r') as file:  \n",
    "    # Read the contents of the file  \n",
    "    cl_template = file.read()  \n",
    "\n",
    "# Open the text file in read mode  \n",
    "with open('data/job_description.txt', 'r', encoding='utf-8') as file:  \n",
    "    # Read the contents of the file  \n",
    "    job_description = file.read()  "
   ]
  },
  {
   "cell_type": "markdown",
   "metadata": {},
   "source": [
    "## Extract adapted information from CV"
   ]
  },
  {
   "cell_type": "code",
   "execution_count": 31,
   "metadata": {},
   "outputs": [],
   "source": [
    "def pdf_to_img_base64(pdf_path):  \n",
    "    # Convert PDF to a list of images (one image per page)  \n",
    "    pdf = pdfium.PdfDocument(pdf_path)\n",
    "\n",
    "    # List to hold base64 encoded images  \n",
    "    base64_images = []  \n",
    "\n",
    "    for i in range(len(pdf)):\n",
    "        page = pdf[i]\n",
    "        image = page.render(scale=4).to_pil()\n",
    "      \n",
    "        buffered = BytesIO()  \n",
    "        image.save(buffered, format=\"JPEG\")  \n",
    "          \n",
    "        # Get bytes data  \n",
    "        img_bytes = buffered.getvalue()  \n",
    "          \n",
    "        # Encode bytes to base64 string  \n",
    "        img_base64 = base64.b64encode(img_bytes).decode('utf-8')  \n",
    "        base64_images.append(img_base64)  \n",
    "      \n",
    "    return base64_images  "
   ]
  },
  {
   "cell_type": "code",
   "execution_count": 32,
   "metadata": {},
   "outputs": [],
   "source": [
    "from IPython.display import Image as IPImage\n",
    "from IPython.display import display\n",
    "\n",
    "base64_image = pdf_to_img_base64(\"data/cv.pdf\")[0]"
   ]
  },
  {
   "cell_type": "markdown",
   "metadata": {},
   "source": [
    "## Instanciate LLM Agent"
   ]
  },
  {
   "cell_type": "code",
   "execution_count": 33,
   "metadata": {},
   "outputs": [
    {
     "data": {
      "text/plain": [
       "'Hello! How can I assist you today?'"
      ]
     },
     "execution_count": 33,
     "metadata": {},
     "output_type": "execute_result"
    }
   ],
   "source": [
    "# Create an instance of Azure OpenAI\n",
    "llm = AzureChatOpenAI(\n",
    "    temperature=0,\n",
    "    azure_deployment=os.getenv('DEPLOYEMENT_NAME'),\n",
    "    openai_api_version=os.getenv('OPENAI_API_VERSION'),\n",
    "    #rate_limiter=rate_limiter\n",
    "    )\n",
    "\n",
    "llm.invoke(\"Hello\").content"
   ]
  },
  {
   "cell_type": "markdown",
   "metadata": {},
   "source": [
    "## Information extraction from CV"
   ]
  },
  {
   "cell_type": "code",
   "execution_count": 34,
   "metadata": {},
   "outputs": [],
   "source": [
    "system_string = \"\"\"\n",
    "    You are an expert extracting information from CV for technical profiles, \n",
    "    specifically for roles such as Data Scientist and Machine Learning Engineer. \n",
    "    Extract relevant information from a CV that will help build a cover letter. \n",
    "\n",
    "    You are provided with a job description and a pdf file CV. Given the content of the job description, extract and summarize the most important information.\n",
    "    \"\"\"\n",
    "\n",
    "system_message = SystemMessage(\n",
    "    content=[\n",
    "        {\"type\": \"text\", \"text\": system_string},\n",
    "    ]\n",
    ")\n",
    "\n",
    "human_message = HumanMessage(\n",
    "    content=[\n",
    "        {\"type\": \"text\", \"text\": \"\"\"\n",
    "            Content of the job desription:\n",
    "            {job_description}\n",
    "         \n",
    "            Content of the CV:\n",
    "        \"\"\"},\n",
    "        {\n",
    "            \"type\": \"image_url\",\n",
    "            \"image_url\": {\"url\": f\"data:image/jpeg;base64,{base64_image}\"},\n",
    "        },\n",
    "    ]\n",
    "\n",
    ")\n",
    "\n",
    "extraction_prompt = ChatPromptTemplate.from_messages([system_message, human_message])\n",
    "\n",
    "extraction_chain = extraction_prompt | llm "
   ]
  },
  {
   "cell_type": "code",
   "execution_count": 35,
   "metadata": {},
   "outputs": [],
   "source": [
    "extracted_information = extraction_chain.invoke({\"job_description\": job_description})"
   ]
  },
  {
   "cell_type": "code",
   "execution_count": 36,
   "metadata": {},
   "outputs": [],
   "source": [
    "prompt = ChatPromptTemplate.from_messages([\n",
    "\n",
    "    (\"system\", \"\"\"You are an expert in crafting professional and compelling cover letters tailored for technical profiles, \n",
    "    specifically for roles such as Data Scientist and Machine Learning Engineer. \n",
    "    Your task is to create a cover letter that highlights the candidate's technical skills, \n",
    "    relevant experiences, and enthusiasm for the role they are applying for. \n",
    "    The cover letter should be concise, persuasive, and tailored to the specific job description provided.\n",
    "    You are provided with a job description and a template cover letter that you can take into account to write an adapted cover letter:\n",
    "\n",
    "    Here are the key elements to include:\n",
    "    - Introduction:\n",
    "    Briefly introduce the candidate and state the position they are applying for.\n",
    "    Mention how they found the job posting and why they are excited about the opportunity.\n",
    "    - Technical Skills and Experience:\n",
    "    Highlight the candidate's relevant technical skills (e.g., programming languages, tools, frameworks).\n",
    "    Describe their professional experience related to the role (e.g., past projects, research, employment history).\n",
    "    Mention any notable achievements or contributions in their field.\n",
    "    - Alignment with the Job Description:\n",
    "    Tailor the cover letter to reflect how the candidate's skills and experiences align with the specific requirements of the job.\n",
    "    Provide examples of how they have successfully applied their skills in past roles.\n",
    "    - Passion and Fit:\n",
    "    Convey the candidate's enthusiasm for the role and the company.\n",
    "    Explain why they believe they are a great fit for the team and how they can contribute to the company’s success.\n",
    "    - Conclusion:\n",
    "    Summarize the key points and express eagerness to discuss the application further in an interview.\n",
    "    Provide contact information and thank the reader for their time and consideration.\n",
    "    \n",
    "    Profile details:\n",
    "    {profile_details}\n",
    "    \n",
    "    job description:\n",
    "    {job_description}\n",
    "     \n",
    "    \"\"\"\n",
    "    )\n",
    "])\n",
    "\n",
    "prompt_FR = ChatPromptTemplate.from_messages([\n",
    "\n",
    "    (\"system\", \"\"\"Vous êtes un expert dans la rédaction de lettres de motivation professionnelles et convaincantes, adaptées aux profils techniques, notamment pour des postes tels que Data Scientist et Machine Learning Engineer. Votre tâche consiste à créer une lettre de motivation qui met en avant les compétences techniques du candidat, ses expériences pertinentes et son enthousiasme pour le poste auquel il postule. La lettre de motivation doit être concise, persuasive et adaptée à la description de poste fournie. Vous disposez d'une description de poste et d'un modèle de lettre de motivation que vous pouvez prendre en compte pour rédiger une lettre de motivation adaptée :\n",
    "\n",
    "Voici les éléments clés à inclure :\n",
    "\n",
    "Introduction :\n",
    "Présentez brièvement le candidat et indiquez le poste auquel il postule. Mentionnez comment il a trouvé l'annonce et pourquoi il est enthousiaste à propos de cette opportunité.\n",
    "Compétences techniques et expérience :\n",
    "Mettez en avant les compétences techniques pertinentes du candidat (par exemple, langages de programmation, outils, frameworks). Décrivez son expérience professionnelle liée au poste (par exemple, projets passés, recherches, antécédents professionnels). Mentionnez les réalisations ou contributions notables dans son domaine.\n",
    "Alignement avec la description de poste :\n",
    "Adaptez la lettre de motivation pour refléter comment les compétences et expériences du candidat correspondent aux exigences spécifiques du poste. Fournissez des exemples de la manière dont il a appliqué avec succès ses compétences dans des rôles précédents.\n",
    "Passion et adéquation :\n",
    "Exprimez l'enthousiasme du candidat pour le poste et l'entreprise. Expliquez pourquoi il pense être un excellent candidat pour l'équipe et comment il peut contribuer au succès de l'entreprise.\n",
    "Conclusion :\n",
    "Résumez les points clés et exprimez votre impatience de discuter de la candidature plus en détail lors d'un entretien. Fournissez des informations de contact et remerciez le lecteur pour son temps et sa considération.\n",
    "    \n",
    "    Détails du profil:\n",
    "    {profile_details}\n",
    "    \n",
    "    description_du_poste\n",
    "    {job_description}\n",
    "     \n",
    "    \"\"\"\n",
    "    )\n",
    "])\n",
    "\n",
    "\n",
    "if LANGUAGE == \"FR\":\n",
    "    cover_letter_chain = prompt_FR | llm \n",
    "else:\n",
    "    cover_letter_chain = prompt | llm \n"
   ]
  },
  {
   "cell_type": "code",
   "execution_count": 37,
   "metadata": {},
   "outputs": [],
   "source": [
    "response = cover_letter_chain.invoke({\"profile_details\": extracted_information, \"job_description\": job_description})"
   ]
  },
  {
   "cell_type": "markdown",
   "metadata": {},
   "source": [
    "## Export PDF"
   ]
  },
  {
   "cell_type": "code",
   "execution_count": 39,
   "metadata": {},
   "outputs": [],
   "source": [
    "import markdown2  \n",
    "import pdfkit  \n",
    "import re  \n",
    "   \n",
    "def markdown_to_html(markdown_str, output_file):  \n",
    "    # Highlight elements enclosed in square brackets  \n",
    "    highlighted_html = re.sub(r'\\[(.*?)\\]', r'<mark>\\1</mark>', markdown_str)  \n",
    "      \n",
    "    # Convert Markdown to HTML  \n",
    "    html = markdown2.markdown(highlighted_html)  \n",
    "      \n",
    "    # Write HTML to file  \n",
    "    with open(output_file, 'w', encoding='utf-8') as f:  \n",
    "        f.write(html)  \n",
    "\n",
    "# Example usage:  \n",
    "markdown_str = response.content\n",
    "  \n",
    "output_file = './data/output.html'  \n",
    "markdown_to_html(markdown_str, output_file)  "
   ]
  }
 ],
 "metadata": {
  "kernelspec": {
   "display_name": ".venv",
   "language": "python",
   "name": "python3"
  },
  "language_info": {
   "codemirror_mode": {
    "name": "ipython",
    "version": 3
   },
   "file_extension": ".py",
   "mimetype": "text/x-python",
   "name": "python",
   "nbconvert_exporter": "python",
   "pygments_lexer": "ipython3",
   "version": "3.12.9"
  }
 },
 "nbformat": 4,
 "nbformat_minor": 2
}
